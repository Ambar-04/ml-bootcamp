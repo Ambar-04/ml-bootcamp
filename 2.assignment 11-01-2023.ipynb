{
 "cells": [
  {
   "cell_type": "markdown",
   "id": "a941c2e5",
   "metadata": {},
   "source": [
    "#### Write a program to accept five integers from the user , store them in a list . Display these integers and also display their sum\n"
   ]
  },
  {
   "cell_type": "code",
   "execution_count": 31,
   "id": "45b19146",
   "metadata": {},
   "outputs": [
    {
     "name": "stdout",
     "output_type": "stream",
     "text": [
      "Enter integer:5\n",
      "5\n",
      "[5]\n",
      "Enter integer:7\n",
      "7\n",
      "[5, 7]\n",
      "Enter integer:9\n",
      "9\n",
      "[5, 7, 9]\n",
      "Enter integer:0\n",
      "0\n",
      "[5, 7, 9, 0]\n",
      "Enter integer:8\n",
      "8\n",
      "[5, 7, 9, 0, 8]\n",
      "list is  [5, 7, 9, 0, 8]\n",
      "sum of the elements  29\n"
     ]
    }
   ],
   "source": [
    "l=[]\n",
    "for i in range(0,5):\n",
    "    l.append(int(input(\"Enter integer:\")))\n",
    "    print(l[i])\n",
    "    print(l)\n",
    "print(\"list is \",l)\n",
    "print(\"sum of the elements \",sum(l))\n"
   ]
  },
  {
   "cell_type": "markdown",
   "id": "2f4feb69",
   "metadata": {},
   "source": [
    "#### Write a program to accept 5 unique integers from the user. Make sure if the integer being entered is already present in the list your code displays the message “Item already present” and ask the user to reenter the integer. \n"
   ]
  },
  {
   "cell_type": "code",
   "execution_count": 45,
   "id": "f0430e93",
   "metadata": {},
   "outputs": [
    {
     "name": "stdout",
     "output_type": "stream",
     "text": [
      "Enter integer:3\n",
      "Enter integer:3\n",
      "Already present\n",
      "Enter integer:4\n",
      "Enter integer:5\n",
      "Enter integer:78\n",
      "Enter integer:78\n",
      "Already present\n",
      "Enter integer:78\n",
      "Already present\n",
      "Enter integer:9\n",
      "[3, 4, 5, 78, 9]\n"
     ]
    }
   ],
   "source": [
    "l=[]\n",
    "\n",
    "while len(l)<5:\n",
    "    j=(int(input(\"Enter integer:\")))\n",
    "    if (j in l) == True:\n",
    "        print(\"Already present\")\n",
    "        continue\n",
    "    else:\n",
    "        l.append(j)\n",
    "print(l) "
   ]
  },
  {
   "cell_type": "markdown",
   "id": "f513d0b4",
   "metadata": {},
   "source": [
    "#### Write a program to accept 2 lists from the user of 5 nos each . Assume each list will have unique nos Now find out how many items in these lists are common .\n"
   ]
  },
  {
   "cell_type": "code",
   "execution_count": 56,
   "id": "ba6ab23b",
   "metadata": {},
   "outputs": [
    {
     "name": "stdout",
     "output_type": "stream",
     "text": [
      "Enter integer for first list:2\n",
      "Enter integer for first list:8\n",
      "Enter integer for first list:6\n",
      "Enter integer for first list:4\n",
      "Enter integer for first list:9\n",
      "[2, 8, 6, 4, 9]\n",
      "Enter integer for second list:1\n",
      "Enter integer for second list:3\n",
      "Enter integer for second list:5\n",
      "Enter integer for second list:8\n",
      "Enter integer for second list:6\n",
      "[1, 3, 5, 8, 6]\n",
      "Number of items that are common in both the lists\n",
      "2\n"
     ]
    }
   ],
   "source": [
    "l1=[]\n",
    "for i in range(0,5):\n",
    "    l1.append(int(input(\"Enter integer for first list:\")))\n",
    "print(l1)\n",
    "\n",
    "l2=[]\n",
    "for j in range(0,5):\n",
    "    l2.append(int(input(\"Enter integer for second list:\")))\n",
    "print(l2)\n",
    "\n",
    "print(\"Number of items that are common in both the lists\")\n",
    "l3=[]\n",
    "for p in l1:\n",
    "    for q in l2:\n",
    "        if p==q:\n",
    "            l3.append(p)\n",
    "            continue\n",
    "        else:\n",
    "            pass\n",
    "        \n",
    "print(len(l3))"
   ]
  },
  {
   "cell_type": "markdown",
   "id": "f210392d",
   "metadata": {},
   "source": [
    "#### Rewrite the previous code so that your code alos displays the items which are common in both the lists\n"
   ]
  },
  {
   "cell_type": "code",
   "execution_count": 51,
   "id": "902c5059",
   "metadata": {},
   "outputs": [
    {
     "name": "stdout",
     "output_type": "stream",
     "text": [
      "Enter integer for first list:1\n",
      "Enter integer for first list:2\n",
      "Enter integer for first list:3\n",
      "Enter integer for first list:4\n",
      "Enter integer for first list:5\n",
      "[1, 2, 3, 4, 5]\n",
      "Enter integer for second list:6\n",
      "Enter integer for second list:5\n",
      "Enter integer for second list:78\n",
      "Enter integer for second list:4\n",
      "Enter integer for second list:9\n",
      "[6, 5, 78, 4, 9]\n",
      "Items that are common in both the lists\n",
      "4\n",
      "5\n"
     ]
    }
   ],
   "source": [
    "l1=[]\n",
    "for i in range(0,5):\n",
    "    l1.append(int(input(\"Enter integer for first list:\")))\n",
    "print(l1)\n",
    "\n",
    "l2=[]\n",
    "for j in range(0,5):\n",
    "    l2.append(int(input(\"Enter integer for second list:\")))\n",
    "print(l2)\n",
    "\n",
    "print(\"Items that are common in both the lists:\")\n",
    "for p in l1:\n",
    "    for q in l2:\n",
    "        if p==q:\n",
    "            print(p)\n",
    "            continue\n",
    "        else:\n",
    "            pass"
   ]
  },
  {
   "cell_type": "code",
   "execution_count": null,
   "id": "5c31a6d9",
   "metadata": {},
   "outputs": [],
   "source": []
  }
 ],
 "metadata": {
  "kernelspec": {
   "display_name": "Python 3 (ipykernel)",
   "language": "python",
   "name": "python3"
  },
  "language_info": {
   "codemirror_mode": {
    "name": "ipython",
    "version": 3
   },
   "file_extension": ".py",
   "mimetype": "text/x-python",
   "name": "python",
   "nbconvert_exporter": "python",
   "pygments_lexer": "ipython3",
   "version": "3.9.13"
  }
 },
 "nbformat": 4,
 "nbformat_minor": 5
}
