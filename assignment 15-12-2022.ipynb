{
 "cells": [
  {
   "cell_type": "markdown",
   "id": "1154f949",
   "metadata": {},
   "source": [
    "#### WAP to accept an integer from the user and check whether it is an even or odd\n"
   ]
  },
  {
   "cell_type": "code",
   "execution_count": 1,
   "id": "8655e4b2",
   "metadata": {},
   "outputs": [
    {
     "name": "stdout",
     "output_type": "stream",
     "text": [
      "Enter the number:4\n",
      "4 is even\n"
     ]
    }
   ],
   "source": [
    "a=int(input(\"Enter the number:\"))\n",
    "if a%2==0:\n",
    "    print(a,\"is even\")\n",
    "else:\n",
    "    print(a,\"is odd\")"
   ]
  },
  {
   "cell_type": "markdown",
   "id": "9509a504",
   "metadata": {},
   "source": [
    "#### WAP to accept radius of a Circle from the user and calculate area and circumference"
   ]
  },
  {
   "cell_type": "code",
   "execution_count": 2,
   "id": "6a950765",
   "metadata": {},
   "outputs": [
    {
     "name": "stdout",
     "output_type": "stream",
     "text": [
      "Enter the radius:4.8\n",
      "Area: 72.38 and circumference: 30.16\n"
     ]
    }
   ],
   "source": [
    "import math\n",
    "pi=math.pi\n",
    "r=float(input(\"Enter the radius:\"))\n",
    "print(\"Area:\",round(pi*r*r,2),\"and circumference:\",round(2*pi*r,2))"
   ]
  },
  {
   "cell_type": "markdown",
   "id": "bd7c76af",
   "metadata": {},
   "source": [
    "#### WAP to accept a character from the user and check whether it is a capital letter or small letter. Assume user will input only alphabets"
   ]
  },
  {
   "cell_type": "code",
   "execution_count": 3,
   "id": "1a2518f0",
   "metadata": {},
   "outputs": [
    {
     "name": "stdout",
     "output_type": "stream",
     "text": [
      "Enter a character:s\n",
      "s is a small letter\n"
     ]
    }
   ],
   "source": [
    "ch=input(\"Enter a character:\")\n",
    "if ord(ch)>=65 and ord(ch)<97:\n",
    "    print(ch,\"is a capital letter\")\n",
    "else:\n",
    "    print(ch,\"is a small letter\")"
   ]
  },
  {
   "cell_type": "markdown",
   "id": "6313a0ef",
   "metadata": {},
   "source": [
    "#### WAP to accept a character from the user and check whether it is a capital letter or small letter or a digit or some special symbol\n",
    "\n"
   ]
  },
  {
   "cell_type": "code",
   "execution_count": 21,
   "id": "08be9d62",
   "metadata": {},
   "outputs": [
    {
     "name": "stdout",
     "output_type": "stream",
     "text": [
      "Enter any character:$\n",
      "$ is a special character\n"
     ]
    }
   ],
   "source": [
    "ch=input(\"Enter any character:\")\n",
    "if ch.isdigit()== True:\n",
    "    print(ch,\"is a numerical digit\")\n",
    "else:\n",
    "    if ord(ch)>=65 and ord(ch)<=90:\n",
    "        print(ch,\"is a capital letter\")\n",
    "    elif ord(ch)>=97 and ord(ch)<=122:\n",
    "        print(ch,\"is a small letter\")\n",
    "    else:\n",
    "        print(ch,\"is a special character\")"
   ]
  },
  {
   "cell_type": "markdown",
   "id": "21ec8fc4",
   "metadata": {},
   "source": [
    "#### WAP to accept 3 integers from the user and without using any logical operator and cascading of relational operators , find out the greatest number amongst them"
   ]
  },
  {
   "cell_type": "code",
   "execution_count": 35,
   "id": "bb18406a",
   "metadata": {},
   "outputs": [
    {
     "name": "stdout",
     "output_type": "stream",
     "text": [
      "Enter 3 numbers:2 5 1\n",
      "5 is greatest\n"
     ]
    }
   ],
   "source": [
    "a,b,c=(input(\"Enter 3 numbers:\").split())\n",
    "if a>b and a>c:\n",
    "    print(a,\"is greatest\")\n",
    "elif b>a and b>c:\n",
    "    print(b,\"is greatest\")\n",
    "else:\n",
    "    print(c,\"is greatest\")"
   ]
  },
  {
   "cell_type": "code",
   "execution_count": 39,
   "id": "802a928f",
   "metadata": {},
   "outputs": [
    {
     "name": "stdout",
     "output_type": "stream",
     "text": [
      "23455 5677900204 4\n",
      "5677900204 is greatest\n"
     ]
    }
   ],
   "source": [
    "x=list(map(int,input().split()))\n",
    "#print(x)\n",
    "print(max(x),\"is greatest\")"
   ]
  },
  {
   "cell_type": "markdown",
   "id": "e2dc6a0b",
   "metadata": {},
   "source": [
    "#### WAP to accept a year from the user and check whether it is a leap year or not."
   ]
  },
  {
   "cell_type": "code",
   "execution_count": 43,
   "id": "4efcb5e3",
   "metadata": {},
   "outputs": [
    {
     "name": "stdout",
     "output_type": "stream",
     "text": [
      "Enter the year to check:2000\n",
      "Leap Year\n"
     ]
    }
   ],
   "source": [
    "yr_ipt=int(input(\"Enter the year to check:\"))\n",
    "if(((yr_ipt%4==0) & (yr_ipt%100!=0)) | (yr_ipt%400==0)):\n",
    "    print(\"Leap Year\")\n",
    "else:\n",
    "    print(\"Not a leap year\")"
   ]
  },
  {
   "cell_type": "markdown",
   "id": "cc081f4f",
   "metadata": {},
   "source": [
    "#### You have to develop a number guessing game. Following are the steps needed:\n"
   ]
  },
  {
   "cell_type": "code",
   "execution_count": 14,
   "id": "cf5bf7c5",
   "metadata": {},
   "outputs": [
    {
     "name": "stdout",
     "output_type": "stream",
     "text": [
      "Enter any integer:9\n",
      "Number too small\n",
      "Enter any integer:45\n",
      "Number too large\n",
      "Enter any integer:34\n",
      "Number too large\n",
      "Enter any integer:23\n",
      "Number too large\n",
      "Enter any integer:12\n",
      "Number too small\n",
      "Enter any integer:15\n",
      "Number too small\n",
      "Enter any integer:-9\n",
      "Thank you!!!!You have quitted\n"
     ]
    }
   ],
   "source": [
    "import numpy as np\n",
    "import random\n",
    "r=random.randint(1,50)\n",
    "#print(r)\n",
    "u=int(input(\"Enter any integer:\"))\n",
    "\n",
    "while r!=u:\n",
    "    if r>u and u>0:\n",
    "        print(\"Number too small\")\n",
    "        u=int(input(\"Enter any integer:\"))\n",
    "    elif r<u and u>0:\n",
    "        print(\"Number too large\")\n",
    "        u=int(input(\"Enter any integer:\"))\n",
    "    else:\n",
    "        print(\"Thank you!!!!You have quitted\")\n",
    "        break\n",
    "else:\n",
    "    print(\"Congratulations! You guessed it right\")\n",
    "        "
   ]
  },
  {
   "cell_type": "code",
   "execution_count": null,
   "id": "647ae352",
   "metadata": {},
   "outputs": [],
   "source": []
  },
  {
   "cell_type": "markdown",
   "id": "54f9362f",
   "metadata": {},
   "source": [
    "#### Write a program to accept a string from the user and display it vertically but don’t display the vowels in it."
   ]
  },
  {
   "cell_type": "code",
   "execution_count": 44,
   "id": "ebd6e405",
   "metadata": {},
   "outputs": [
    {
     "name": "stdout",
     "output_type": "stream",
     "text": [
      "Enter:aMBAr AdhIkarI\n",
      "m\n",
      "b\n",
      "r\n",
      " \n",
      "d\n",
      "h\n",
      "k\n",
      "r\n"
     ]
    }
   ],
   "source": [
    "s=input(\"Enter:\").lower()\n",
    "i=0\n",
    "while i<len(s):\n",
    "    if s[i] in ['a','e','i','o','u']:\n",
    "        pass\n",
    "    else:\n",
    "        print(s[i])\n",
    "    i+=1"
   ]
  },
  {
   "cell_type": "markdown",
   "id": "b03a25d6",
   "metadata": {},
   "source": [
    "#### Write a program to continuously accept integers from the user until the user types 0 and as soon as 0 is entered display sum of all the nos entered before 0\n",
    "Note:Modify the previous code so that if the user inputs a negative integer , your program should ignore it ."
   ]
  },
  {
   "cell_type": "code",
   "execution_count": 45,
   "id": "523198a5",
   "metadata": {},
   "outputs": [
    {
     "name": "stdout",
     "output_type": "stream",
     "text": [
      "Enter zero:7\n",
      "Enter zero:-9\n",
      "Enter zero:8\n",
      "Enter zero:1\n",
      "Enter zero:-7\n",
      "Enter zero:100\n",
      "Enter zero:-290\n",
      "Enter zero:4\n",
      "Enter zero:8\n",
      "Enter zero:-98\n",
      "Enter zero:0\n",
      "Sum of positive numbers are 128\n"
     ]
    }
   ],
   "source": [
    "i=int(input('Enter zero:'))\n",
    "l=[]\n",
    "while i!=0:\n",
    "    if i<0:\n",
    "        pass\n",
    "    elif i>0:\n",
    "        l.append(i)\n",
    "    else:\n",
    "        break\n",
    "    i=int(input('Enter zero:'))\n",
    "\n",
    "print(\"Sum of positive numbers are\",sum(l))"
   ]
  },
  {
   "cell_type": "markdown",
   "id": "f03d4f2b",
   "metadata": {},
   "source": [
    "#### Write a program using a for loop to accept a string from the user and display it vertically but don’t display the vowels in it.\n"
   ]
  },
  {
   "cell_type": "code",
   "execution_count": 63,
   "id": "71339637",
   "metadata": {},
   "outputs": [
    {
     "name": "stdout",
     "output_type": "stream",
     "text": [
      "Enter:aMbaR AdHikaRI\n",
      "m\n",
      "b\n",
      "r\n",
      " \n",
      "d\n",
      "h\n",
      "k\n",
      "r\n"
     ]
    }
   ],
   "source": [
    "s=input(\"Enter:\").lower()\n",
    "i=0\n",
    "for i in range(0,len(s)):\n",
    "    if s[i] in ['a','e','i','o','u']:\n",
    "        pass\n",
    "    else:\n",
    "        print(s[i])\n",
    "    i+=1"
   ]
  },
  {
   "cell_type": "code",
   "execution_count": null,
   "id": "9f25de2f",
   "metadata": {},
   "outputs": [],
   "source": []
  },
  {
   "cell_type": "markdown",
   "id": "1eb85836",
   "metadata": {},
   "source": [
    "#### Write a program to accept an integer from the user and display the sum of all the numbers from 1 to that number.\n"
   ]
  },
  {
   "cell_type": "code",
   "execution_count": 67,
   "id": "89087593",
   "metadata": {},
   "outputs": [
    {
     "name": "stdout",
     "output_type": "stream",
     "text": [
      "Enter the number:4\n",
      "Sum is 10\n"
     ]
    }
   ],
   "source": [
    "a=int(input(\"Enter the number:\"))\n",
    "sum=0\n",
    "i=1\n",
    "for i in range(1,a+1):\n",
    "    sum+=i\n",
    "    i+=1\n",
    "print(\"Sum is\",sum)"
   ]
  },
  {
   "cell_type": "code",
   "execution_count": 72,
   "id": "ec2c28f3",
   "metadata": {},
   "outputs": [
    {
     "name": "stdout",
     "output_type": "stream",
     "text": [
      "Enter the number:10\n",
      "Sum is 55\n"
     ]
    }
   ],
   "source": [
    "a=int(input(\"Enter the number:\"))\n",
    "print(\"Sum is\",int((a*(a+1))/2))"
   ]
  },
  {
   "cell_type": "markdown",
   "id": "df60d961",
   "metadata": {},
   "source": [
    "#### Write a program to accept an integer from the user and calculate its factorial\n"
   ]
  },
  {
   "cell_type": "code",
   "execution_count": 77,
   "id": "e1ff37fc",
   "metadata": {},
   "outputs": [
    {
     "name": "stdout",
     "output_type": "stream",
     "text": [
      "Enter the number:8\n",
      "40320\n"
     ]
    }
   ],
   "source": [
    "a=int(input(\"Enter the number:\"))\n",
    "fact=1\n",
    "i=1\n",
    "for i in range(1,a+1):\n",
    "    fact*=i\n",
    "    i+=1\n",
    "print(fact)"
   ]
  },
  {
   "cell_type": "code",
   "execution_count": 84,
   "id": "767a656c",
   "metadata": {},
   "outputs": [
    {
     "name": "stdout",
     "output_type": "stream",
     "text": [
      "* * * \r\n",
      "* * * \r\n",
      "* * * \r\n"
     ]
    }
   ],
   "source": [
    "#### Write a program to print the following pattern \n",
    "\n",
    "for i in range(0,3):\n",
    "    for j in range(0,3):\n",
    "        print('*',end=\" \")\n",
    "    print(\"\\r\")"
   ]
  },
  {
   "cell_type": "code",
   "execution_count": 85,
   "id": "ca3c5f89",
   "metadata": {},
   "outputs": [
    {
     "name": "stdout",
     "output_type": "stream",
     "text": [
      "* \r\n",
      "* * \r\n",
      "* * * \r\n",
      "* * * * \r\n"
     ]
    }
   ],
   "source": [
    "for i in range(0,4):\n",
    "    for j in range(0,i+1):\n",
    "        print('*',end=\" \")\n",
    "    print(\"\\r\")"
   ]
  },
  {
   "cell_type": "code",
   "execution_count": 92,
   "id": "af2a9cbf",
   "metadata": {},
   "outputs": [
    {
     "name": "stdout",
     "output_type": "stream",
     "text": [
      "* * * * \r\n",
      "* * * \r\n",
      "* * \r\n",
      "* \r\n"
     ]
    }
   ],
   "source": [
    "for i in range(0,4):\n",
    "    for j in range(0,4-i):\n",
    "        print('*',end=\" \")\n",
    "    print(\"\\r\")"
   ]
  },
  {
   "cell_type": "markdown",
   "id": "3358f3cc",
   "metadata": {},
   "source": [
    "#### Write a program to accept an integer from the user and display all the numbers from 1 to that number. Repeat the process until the user enters 0."
   ]
  },
  {
   "cell_type": "code",
   "execution_count": 6,
   "id": "df255ace",
   "metadata": {},
   "outputs": [
    {
     "name": "stdout",
     "output_type": "stream",
     "text": [
      "Enter the number:4\n",
      "1\n",
      "2\n",
      "3\n",
      "4\n",
      "Enter the number:8\n",
      "1\n",
      "2\n",
      "3\n",
      "4\n",
      "5\n",
      "6\n",
      "7\n",
      "8\n",
      "Enter the number:0\n"
     ]
    }
   ],
   "source": [
    "a=int(input(\"Enter the number:\"))\n",
    "i=1\n",
    "\n",
    "while a!=0:\n",
    "    i=1\n",
    "    while i<(a+1):\n",
    "        print(i)\n",
    "        i+=1\n",
    "    a=int(input(\"Enter the number:\"))\n",
    "    continue\n",
    "    "
   ]
  },
  {
   "cell_type": "code",
   "execution_count": null,
   "id": "2cfe4f35",
   "metadata": {},
   "outputs": [],
   "source": []
  }
 ],
 "metadata": {
  "kernelspec": {
   "display_name": "Python 3 (ipykernel)",
   "language": "python",
   "name": "python3"
  },
  "language_info": {
   "codemirror_mode": {
    "name": "ipython",
    "version": 3
   },
   "file_extension": ".py",
   "mimetype": "text/x-python",
   "name": "python",
   "nbconvert_exporter": "python",
   "pygments_lexer": "ipython3",
   "version": "3.9.13"
  }
 },
 "nbformat": 4,
 "nbformat_minor": 5
}
